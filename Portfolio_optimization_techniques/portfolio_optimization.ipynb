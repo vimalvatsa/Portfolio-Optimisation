{
 "cells": [
  {
   "cell_type": "markdown",
   "metadata": {},
   "source": [
    "# Portfolio Optimization Using Python\n",
    "\n",
    "Many indviduals use 401Ks and different retirement tools to help prepare for life after work. Many of these tools depend on managing risk appropiately as to not incure large losses while still taking necessary risk to grow the initial capital. In this series, we will cover the topic of portfolio optimization, a popular technique that financial and investment advisors use to help ensure that their clients are taking appropriate risk to meet their financial objectives.\n",
    "\n",
    "This tutorial will be broken into a few different sections with each section buildin on top of each other. The first section we will focus on collecting the data necessary for analysis. The data will be pretty simple, just closing price data for a small portfolio of stocks. While in this tutorial, I will focus on using the NASDAQ as my source of data I will be providing different ways on how to get this data in some supplementary code.\n",
    "\n",
    "After we cover collecting the data, we will then move through the process of preparing the data to calculate a few different metrics that will be crucial for optaining optimial results in our portfolio. A few metrics we will calculate are expected returns, expected volatility, and the Sharpe Ratio. Once we have these metrics defined, we will then move into the process of building a simulation that will randomly generate results that we can use to help determine the optimial results for a wide range of portfolios.\n",
    "\n",
    "We will take the results of this simulation, plot them using `matplotlib`, and then explore how we can use the `scipy` library to run an optimization algorthim that will return the best weights for our simulation."
   ]
  },
  {
   "cell_type": "code",
   "execution_count": 1,
   "metadata": {},
   "outputs": [],
   "source": [
    "import pathlib\n",
    "import numpy as np\n",
    "import pandas as pd\n",
    "import matplotlib.pyplot as plt\n",
    "import scipy.optimize as sci_opt\n",
    "\n",
    "from pprint import pprint\n",
    "from fake_useragent import UserAgent\n",
    "from sklearn.preprocessing import StandardScaler\n",
    "# from pyopt.client import PriceHistory\n",
    "\n",
    "# Set some display options for Pandas.\n",
    "pd.set_option('display.max_colwidth', None)\n",
    "pd.set_option('expand_frame_repr', False)"
   ]
  },
  {
   "cell_type": "code",
   "execution_count": 2,
   "metadata": {},
   "outputs": [
    {
     "name": "stdout",
     "output_type": "stream",
     "text": [
      "         date   close    volume    open      high     low symbol\n",
      "0  2020-07-23  122.93  11010220  127.74  129.8494  121.32     SQ\n",
      "1  2020-07-22  129.18   8437494  127.49  131.7100  127.06     SQ\n",
      "2  2020-07-21  126.99  10787520  129.95  130.8000  125.07     SQ\n",
      "3  2020-07-20  128.39  12423990  121.26  129.4600  120.53     SQ\n",
      "4  2020-07-17  120.73   6968161  120.98  122.3800  118.59     SQ\n"
     ]
    }
   ],
   "source": [
    "# Instead of using PriceHistory, we can use yfinance to download stock data\n",
    "import yfinance as yf\n",
    "\n",
    "# Define the symbols\n",
    "symbols = ['AAPL', 'MSFT', 'SQ']\n",
    "number_of_symbols = len(symbols)\n",
    "# If we don't have data then grab it.\n",
    "if not pathlib.Path('/Users/vimalvatsa/portfolio-optimization/data/stock_data.csv').exists():\n",
    "    # Download data\n",
    "    data = yf.download(symbols, user_agent = UserAgent().chrome)\n",
    "    \n",
    "    # Keep only the 'Close' prices\n",
    "    price_data_frame = data['Close'].reset_index()\n",
    "    \n",
    "    # Melt the dataframe to get it into the format you expect\n",
    "    price_data_frame = price_data_frame.melt(id_vars=['Date'], var_name='symbol', value_name='close')\n",
    "    \n",
    "    # Rename 'Date' to 'date' to match your expected format\n",
    "    price_data_frame = price_data_frame.rename(columns={'Date': 'date'})\n",
    "    \n",
    "    # Save to CSV\n",
    "    price_data_frame.to_csv(r'/Users/vimalvatsa/portfolio-optimization/data/stock_data.csv', index=False)\n",
    "else:\n",
    "    # Load the data\n",
    "    price_data_frame = pd.read_csv('/Users/vimalvatsa/portfolio-optimization/data/stock_data.csv')\n",
    "\n",
    "# Print the head\n",
    "print(price_data_frame.head())"
   ]
  },
  {
   "cell_type": "markdown",
   "metadata": {},
   "source": [
    "The data is pretty close to what we need, but it needs a little bit more massaging before we can jump to the next steps. We can use the `pivot` method to reorganize the data so that we have a single column for each symbol, where each column contains the close price. By having the data like this, we can then calculate the returns for each day."
   ]
  },
  {
   "cell_type": "code",
   "execution_count": 4,
   "metadata": {
    "tags": []
   },
   "outputs": [
    {
     "name": "stdout",
     "output_type": "stream",
     "text": [
      "symbol        AAPL    MSFT     SQ\n",
      "date                             \n",
      "2020-01-24  318.31  165.04  71.14\n",
      "2020-01-27  308.95  162.28  71.05\n",
      "2020-01-28  317.69  165.46  74.80\n",
      "2020-01-29  324.34  168.04  76.16\n",
      "2020-01-30  323.87  172.78  76.10\n"
     ]
    }
   ],
   "source": [
    "# Since we don't need all the data, let's limit the columns we need to work with.\n",
    "price_data_frame = price_data_frame[['date', 'symbol', 'close']]\n",
    "\n",
    "# Once we've done that, use the `pivot` method to reorganize the data. Have the `date`\n",
    "# be our new index, the `symbols` as our columns, and the `close` price as our values.\n",
    "price_data_frame = price_data_frame.pivot(\n",
    "    index='date',\n",
    "    columns='symbol',\n",
    "    values='close'\n",
    ")\n",
    "print(price_data_frame.head())"
   ]
  },
  {
   "cell_type": "markdown",
   "metadata": {},
   "source": [
    "I think this is a good point to start talking about some of the next steps we are going to do. However, I find it helps to have a high-level overview of the goal, and the tools we will be using to get there. Now at this point, you should recognize that we are using to portfolio of stocks to help generate returns. However, to generate these returns we need to take on **risk**, but ideally we should be comfortable taking on this risk because we are compensated in the form returns that increase our investment.\n",
    "\n",
    "However, most investors aren't okay with taking on high-levels of risk, so our goal is to find the best ratio of risk vs returns. Ideally, we are taking the most risk we are comfortable with and attempting to maximize those returns. That naturally leads to an important question, \"How do we measure risk?\". Well, this can lead you down a rabbit hole because there are many ways to measure risk and some are more appropriate than others depending on the situation at hand. In our case, we will use a very popular metric, the `Sharpe Ratio`. The Sharpe Ratio, is used is a measure for calculating risk-adjusted return and has been the industry standard for such calculations. The Sharpe Ratio allows us to quantify the relationship the average return earned in excess of the risk-free rate per unit of volatility or total risk.\n",
    "\n",
    "Mathematically, we define the Sharpe Ratio as the following:\n",
    "\n",
    "\\begin{equation*}\n",
    "\\text{Sharpe Ratio} = \\frac{(R_p - R_f)}{\\sigma_p}\n",
    "\\end{equation*}\n",
    "\n",
    "Where:\n",
    "\n",
    "$\n",
    "\\begin{align}\n",
    "\\ R_p & = \\text{Return of Portfolio} \\\\\n",
    "\\ R_f & = \\text{Risk-Free Rate} \\\\\n",
    "\\ \\sigma_p & = \\text{Standard Deviation of Portfolio's Excess Return} \\\\\n",
    "\\end{align}\n",
    "$\n",
    "\n",
    "To calculate the expected returns, we use the following formula:\n",
    "\n",
    "\\begin{equation*}\n",
    "\\ R_p = (w_{1}r_{1}) + (w_{2}r_{2}) + \\cdots + (w_{n}r_{n})\n",
    "\\end{equation*}\n",
    "\n",
    "Where:\n",
    "\n",
    "$\n",
    "\\begin{align}\n",
    "\\ r_{i} & = \\text{Return of Security i} \\\\\n",
    "\\ w_{i} & = \\text{Weight of Security i} \\\\\n",
    "\\end{align}\n",
    "$\n",
    "\n",
    "To calculate the standard deviation of the protfolio, we use the following formula:\n",
    "\n",
    "\\begin{equation*}\n",
    "\\ \\sigma_p = \\sqrt{(w_{i}^2 \\sigma_i^2) + (w_{j}^2 \\sigma_j^2) + (2w_{j}w_{i} p_{i,j} \\sigma_i \\sigma_j)}\n",
    "\\end{equation*}\n",
    "\n",
    "Where:\n",
    "\n",
    "$\n",
    "\\begin{align}\n",
    "\\ \\sigma_{i} & = \\text{Standard Deviation of Returns for Security i} \\\\\n",
    "\\ w_{i} & = \\text{Weight of Security i} \\\\\n",
    "\\ p_{i,j} & = \\text{Correlation Coefficent between the returns of asset i and asset j} \\\\\n",
    "\\end{align}\n",
    "$"
   ]
  },
  {
   "cell_type": "code",
   "execution_count": 5,
   "metadata": {
    "tags": []
   },
   "outputs": [
    {
     "name": "stdout",
     "output_type": "stream",
     "text": [
      "\n",
      "================================================================================\n",
      "PORTFOLIO WEIGHTS:\n",
      "--------------------------------------------------------------------------------\n",
      "   random_weights  rebalance_weights\n",
      "0        0.894335           0.769284\n",
      "1        0.262256           0.225586\n",
      "2        0.005964           0.005130\n",
      "--------------------------------------------------------------------------------\n",
      "\n",
      "================================================================================\n",
      "PORTFOLIO METRICS:\n",
      "--------------------------------------------------------------------------------\n",
      "   Expected Portfolio Returns  Expected Portfolio Volatility  Portfolio Sharpe Ratio\n",
      "0                    0.337918                       0.533461                0.633445\n",
      "--------------------------------------------------------------------------------\n"
     ]
    }
   ],
   "source": [
    "# Calculate the Log of returns.\n",
    "log_return = np.log(1 + price_data_frame.pct_change())\n",
    "#gives the percentage change from one row to the next ^^^\n",
    "\n",
    "# Generate Random Weights.\n",
    "random_weights = np.array(np.random.random(number_of_symbols))\n",
    "\n",
    "# Generate the Rebalance Weights, these should equal 1.\n",
    "rebalance_weights = random_weights / np.sum(random_weights)\n",
    "\n",
    "# Calculate the Expected Returns, annualize it by multiplying it by `252`.\n",
    "exp_ret = np.sum((log_return.mean() * rebalance_weights) * 252)\n",
    "\n",
    "# Calculate the Expected Volatility, annualize it by multiplying it by `252`.\n",
    "exp_vol = np.sqrt(\n",
    "np.dot(\n",
    "    rebalance_weights.T,\n",
    "    np.dot(\n",
    "        log_return.cov() * 252,\n",
    "        rebalance_weights\n",
    "    )\n",
    ")\n",
    ")\n",
    "\n",
    "# Calculate the Sharpe Ratio.\n",
    "sharpe_ratio = exp_ret / exp_vol\n",
    "\n",
    "# Put the weights into a data frame to see them better.\n",
    "weights_df = pd.DataFrame(data={\n",
    "'random_weights': random_weights,\n",
    "'rebalance_weights': rebalance_weights\n",
    "})\n",
    "print('')\n",
    "print('='*80)\n",
    "print('PORTFOLIO WEIGHTS:')\n",
    "print('-'*80)\n",
    "print(weights_df)\n",
    "print('-'*80)\n",
    "\n",
    "# Do the same with the other metrics.\n",
    "metrics_df = pd.DataFrame(data={\n",
    "    'Expected Portfolio Returns': exp_ret,\n",
    "    'Expected Portfolio Volatility': exp_vol,\n",
    "    'Portfolio Sharpe Ratio': sharpe_ratio\n",
    "}, index=[0])\n",
    "\n",
    "print('')\n",
    "print('='*80)\n",
    "print('PORTFOLIO METRICS:')\n",
    "print('-'*80)\n",
    "print(metrics_df)\n",
    "print('-'*80)"
   ]
  },
  {
   "cell_type": "code",
   "execution_count": 6,
   "metadata": {},
   "outputs": [
    {
     "name": "stdout",
     "output_type": "stream",
     "text": [
      "\n",
      "================================================================================\n",
      "PORTFOLIO WEIGHTS:\n",
      "--------------------------------------------------------------------------------\n",
      "   random_weights  rebalance_weights\n",
      "0        0.229498           0.255441\n",
      "1        0.441113           0.490978\n",
      "2        0.227827           0.253581\n",
      "--------------------------------------------------------------------------------\n",
      "\n",
      "================================================================================\n",
      "PORTFOLIO METRICS:\n",
      "--------------------------------------------------------------------------------\n",
      "   Expected Portfolio Returns  Expected Portfolio Volatility  Portfolio Sharpe Ratio\n",
      "0                    0.561691                       0.592641                0.947777\n",
      "--------------------------------------------------------------------------------\n"
     ]
    }
   ],
   "source": [
    "# Convert numeric columns to float\n",
    "for col in price_data_frame.columns:\n",
    "    price_data_frame[col] = pd.to_numeric(price_data_frame[col], errors='coerce')\n",
    "\n",
    "# Calculate the Log of returns.\n",
    "log_return = np.log(1 + price_data_frame.pct_change())\n",
    "\n",
    "# Generate Random Weights.\n",
    "random_weights = np.array(np.random.random(number_of_symbols))\n",
    "\n",
    "# Generate the Rebalance Weights, these should equal 1.\n",
    "rebalance_weights = random_weights / np.sum(random_weights)\n",
    "\n",
    "# Calculate the Expected Returns, annualize it by multiplying it by `252`.\n",
    "exp_ret = np.sum((log_return.mean() * rebalance_weights) * 252)\n",
    "\n",
    "# Calculate the Expected Volatility, annualize it by multiplying it by `252`.\n",
    "exp_vol = np.sqrt(\n",
    "    np.dot(\n",
    "        rebalance_weights.T,\n",
    "        np.dot(\n",
    "            log_return.cov() * 252,\n",
    "            rebalance_weights\n",
    "        )\n",
    "    )\n",
    ")\n",
    "\n",
    "# Calculate the Sharpe Ratio.\n",
    "sharpe_ratio = exp_ret / exp_vol\n",
    "\n",
    "# Put the weights into a data frame to see them better.\n",
    "weights_df = pd.DataFrame(data={\n",
    "    'random_weights': random_weights,\n",
    "    'rebalance_weights': rebalance_weights\n",
    "})\n",
    "print('')\n",
    "print('='*80)\n",
    "print('PORTFOLIO WEIGHTS:')\n",
    "print('-'*80)\n",
    "print(weights_df)\n",
    "print('-'*80)\n",
    "\n",
    "# Do the same with the other metrics.\n",
    "metrics_df = pd.DataFrame(data={\n",
    "    'Expected Portfolio Returns': exp_ret,\n",
    "    'Expected Portfolio Volatility': exp_vol,\n",
    "    'Portfolio Sharpe Ratio': sharpe_ratio\n",
    "}, index=[0])\n",
    "\n",
    "print('')\n",
    "print('='*80)\n",
    "print('PORTFOLIO METRICS:')\n",
    "print('-'*80)\n",
    "print(metrics_df)\n",
    "print('-'*80)"
   ]
  },
  {
   "cell_type": "markdown",
   "metadata": {},
   "source": [
    "# Portfolio Optimization: Monte Carlo\n",
    "\n",
    "Great, so we now have a way to evaluate how well our portfolio is allocated. It involves, calculating the expected returns, the expected volatility, and then from here we use the Sharpe Ratio to quantify how well our portfolio is allocated based on a risk perspective. The big question here is, \"If we know that we want to get a higher sharpe ratio, what is the portfolio allocation we need to achieve this?\"\n",
    "\n",
    "Well, there are two ways to approach this. First, we could test a bunch of different random allocations and see which ones produces the highest Sharpe Ratio. Second, we could use mathematical optimization defined by some constrains to arrive at the optimial allocation. In the next section, we will run the \"try a bunch of random allocations\" method. Now, there is a more formal name for this process, a Monte Carlo Simulation.\n",
    "\n",
    "**Monte Carlo simulations are used to model the probability of different outcomes in a process that cannot easily be predicted due to the intervention of random variables. It is a technique used to understand the impact of risk and uncertainty in prediction and forecasting models.**\n",
    "\n",
    "To do this in python, we will do is run the process we laid out up above and run it a couple thousands of time, and store the results of each run in a data frame. Once we've completed each run, we will find the allocations that produce the highest Sharpe Ratio and the lowest Volatility."
   ]
  },
  {
   "cell_type": "code",
   "execution_count": 7,
   "metadata": {
    "tags": []
   },
   "outputs": [
    {
     "name": "stdout",
     "output_type": "stream",
     "text": [
      "\n",
      "================================================================================\n",
      "SIMULATIONS RESULT:\n",
      "--------------------------------------------------------------------------------\n",
      "    Returns  Volatility  Sharpe Ratio                                               Portfolio Weights\n",
      "0  0.798109    0.714799      1.116550  [0.23182255630756754, 0.17540483804346582, 0.5927726056489666]\n",
      "1  0.438329    0.553127      0.792456    [0.5814052251544319, 0.295674414513392, 0.12292036033217607]\n",
      "2  0.873195    0.759734      1.149343   [0.14100268255749981, 0.1708047652408669, 0.6881925522016332]\n",
      "3  0.768202    0.692510      1.109300  [0.025711726794717737, 0.4553097253892198, 0.5189785478160625]\n",
      "4  0.556962    0.590924      0.942527   [0.2896840403038082, 0.45853131310604445, 0.2517846465901474]\n",
      "--------------------------------------------------------------------------------\n"
     ]
    }
   ],
   "source": [
    "# Initialize the components, to run a Monte Carlo Simulation.\n",
    "\n",
    "# We will run 5000 iterations.\n",
    "num_of_portfolios = 5000\n",
    "\n",
    "# Prep an array to store the weights as they are generated, 5000 iterations for each of our 4 symbols.\n",
    "all_weights = np.zeros((num_of_portfolios, number_of_symbols))\n",
    "\n",
    "# Prep an array to store the returns as they are generated, 5000 possible return values.\n",
    "ret_arr = np.zeros(num_of_portfolios)\n",
    "\n",
    "# Prep an array to store the volatilities as they are generated, 5000 possible volatility values.\n",
    "vol_arr = np.zeros(num_of_portfolios)\n",
    "\n",
    "# Prep an array to store the sharpe ratios as they are generated, 5000 possible Sharpe Ratios.\n",
    "sharpe_arr = np.zeros(num_of_portfolios)\n",
    "\n",
    "# Start the simulations.\n",
    "for ind in range(num_of_portfolios):\n",
    "\n",
    "    # First, calculate the weights.\n",
    "    weights = np.array(np.random.random(number_of_symbols))\n",
    "    weights = weights / np.sum(weights)\n",
    "\n",
    "    # Add the weights, to the `weights_arrays`.\n",
    "    all_weights[ind, :] = weights # ind -> row adding the weight to the columns\n",
    "\n",
    "    # Calculate the expected log returns, and add them to the `returns_array`.\n",
    "    ret_arr[ind] = np.sum((log_return.mean() * weights) * 252) # return of each item * weight of the portfolio, 252 - anualising\n",
    "    #e.g. - if 20% of my portfolio is microsoft then I want to take the total overturn and say what portion of it actually contributing to the portfolio\n",
    "    \n",
    "    \n",
    "    # Calculate the volatility, and add them to the `volatility_array`.\n",
    "    vol_arr[ind] = np.sqrt(\n",
    "        np.dot(weights.T, np.dot(log_return.cov() * 252, weights))\n",
    "    )\n",
    "    #transposing the weights when taking its dot product and then do dot product(log returns and take its covariance) and multiply by 252 * weight\n",
    "    # Calculate the Sharpe Ratio and Add it to the `sharpe_ratio_array`.\n",
    "    sharpe_arr[ind] = ret_arr[ind]/vol_arr[ind]\n",
    "\n",
    "# Let's create our \"Master Data Frame\", with the weights, the returns, the volatility, and the Sharpe Ratio\n",
    "simulations_data = [ret_arr, vol_arr, sharpe_arr, all_weights]\n",
    "\n",
    "# Create a DataFrame from it, then Transpose it so it looks like our original one.\n",
    "simulations_df = pd.DataFrame(data=simulations_data).T\n",
    "\n",
    "# Give the columns the Proper Names.\n",
    "simulations_df.columns = [\n",
    "    'Returns',\n",
    "    'Volatility',\n",
    "    'Sharpe Ratio',\n",
    "    'Portfolio Weights'\n",
    "]\n",
    "\n",
    "# Make sure the data types are correct, we don't want our floats to be strings.\n",
    "simulations_df = simulations_df.infer_objects()\n",
    "\n",
    "# Print out the results.\n",
    "print('')\n",
    "print('='*80)\n",
    "print('SIMULATIONS RESULT:')\n",
    "print('-'*80)\n",
    "print(simulations_df.head())\n",
    "print('-'*80)"
   ]
  },
  {
   "cell_type": "markdown",
   "metadata": {},
   "source": [
    "# Grab the Important Metrics\n",
    "Okay now that we ran our simulation let's take a look at some interesting metrics. The first one, we can take a look at is the `max_sharpe_ratio`, this is Sharpe Ratio where the excess return of the portfolio is greatest given the amount of risk we are taking on. In other words, these portfolios are \"best\" because they provide the largest risk-adjusted returns. The next metric is the `min_volatiltiy`, these are the weights where the overall volatility of the portfolio is at it's lowest. In other words, if you want to take on the least amount of risk, these are the weights you would want to have. \n",
    "\n",
    "**Note, where do these numbers end up in our next section where we plot our data?**"
   ]
  },
  {
   "cell_type": "code",
   "execution_count": 8,
   "metadata": {
    "tags": []
   },
   "outputs": [
    {
     "name": "stdout",
     "output_type": "stream",
     "text": [
      "\n",
      "================================================================================\n",
      "MAX SHARPE RATIO:\n",
      "--------------------------------------------------------------------------------\n",
      "Returns                                                                     1.066461\n",
      "Volatility                                                                  0.890471\n",
      "Sharpe Ratio                                                                1.197637\n",
      "Portfolio Weights    [0.021113530450292704, 0.02826879834453458, 0.9506176712051727]\n",
      "Name: 2006, dtype: object\n",
      "--------------------------------------------------------------------------------\n",
      "\n",
      "================================================================================\n",
      "MIN VOLATILITY:\n",
      "--------------------------------------------------------------------------------\n",
      "Returns                                                                      0.338365\n",
      "Volatility                                                                   0.532912\n",
      "Sharpe Ratio                                                                 0.634937\n",
      "Portfolio Weights    [0.7327002430242242, 0.26692544948474006, 0.0003743074910356634]\n",
      "Name: 3731, dtype: object\n",
      "--------------------------------------------------------------------------------\n"
     ]
    }
   ],
   "source": [
    "# Return the Max Sharpe Ratio from the run.\n",
    "max_sharpe_ratio = simulations_df.loc[simulations_df['Sharpe Ratio'].idxmax()]\n",
    "\n",
    "# Return the Min Volatility from the run.\n",
    "min_volatility = simulations_df.loc[simulations_df['Volatility'].idxmin()]\n",
    "\n",
    "print('')\n",
    "print('='*80)\n",
    "print('MAX SHARPE RATIO:')\n",
    "print('-'*80)\n",
    "print(max_sharpe_ratio)\n",
    "print('-'*80)\n",
    "\n",
    "print('')\n",
    "print('='*80)\n",
    "print('MIN VOLATILITY:')\n",
    "print('-'*80)\n",
    "print(min_volatility)\n",
    "print('-'*80)"
   ]
  },
  {
   "cell_type": "markdown",
   "metadata": {},
   "source": [
    "# Plotting:\n",
    "\n",
    "Now producing a bunch of different weights is one thing, but it helps to see the results of our simulation using a graph. We will use `matplotlib` to create a scatter plot that shows the relationship between the overall volatility of our portfolio, and the expected returns from it. Ideally, what we should see is that as we take on more risk, we should be getting higher risk-adjusted returns. The opposite can be said for volaility, the less volatility we take on the lower the expected return we should be getting.\n",
    "\n",
    "Now as mentioned above, where does the `minimum_volatility` and the `maximum_sharpe_ratio` fall on this grab? Hint, lower volatility means lower risk-adjusted returns."
   ]
  },
  {
   "cell_type": "code",
   "execution_count": 9,
   "metadata": {
    "tags": []
   },
   "outputs": [
    {
     "name": "stderr",
     "output_type": "stream",
     "text": [
      "/var/folders/jn/7sdsjp9d0cn_c7zfft_vvyyc0000gn/T/ipykernel_37214/563608600.py:20: FutureWarning: Series.__getitem__ treating keys as positions is deprecated. In a future version, integer keys will always be treated as labels (consistent with DataFrame behavior). To access a value by position, use `ser.iloc[pos]`\n",
      "  max_sharpe_ratio[1],\n",
      "/var/folders/jn/7sdsjp9d0cn_c7zfft_vvyyc0000gn/T/ipykernel_37214/563608600.py:21: FutureWarning: Series.__getitem__ treating keys as positions is deprecated. In a future version, integer keys will always be treated as labels (consistent with DataFrame behavior). To access a value by position, use `ser.iloc[pos]`\n",
      "  max_sharpe_ratio[0],\n",
      "/var/folders/jn/7sdsjp9d0cn_c7zfft_vvyyc0000gn/T/ipykernel_37214/563608600.py:29: FutureWarning: Series.__getitem__ treating keys as positions is deprecated. In a future version, integer keys will always be treated as labels (consistent with DataFrame behavior). To access a value by position, use `ser.iloc[pos]`\n",
      "  min_volatility[1],\n",
      "/var/folders/jn/7sdsjp9d0cn_c7zfft_vvyyc0000gn/T/ipykernel_37214/563608600.py:30: FutureWarning: Series.__getitem__ treating keys as positions is deprecated. In a future version, integer keys will always be treated as labels (consistent with DataFrame behavior). To access a value by position, use `ser.iloc[pos]`\n",
      "  min_volatility[0],\n"
     ]
    },
    {
     "data": {
      "image/png": "[encoded data removed]",
      "text/plain": [
       "<Figure size 640x480 with 2 Axes>"
      ]
     },
     "metadata": {},
     "output_type": "display_data"
    }
   ],
   "source": [
    "# This is so I can see the plot inside of my Jupyter Notebook.\n",
    "%matplotlib inline\n",
    "\n",
    "# Plot the data on a Scatter plot.\n",
    "plt.scatter(\n",
    "    y=simulations_df['Returns'],\n",
    "    x=simulations_df['Volatility'],\n",
    "    c=simulations_df['Sharpe Ratio'],\n",
    "    cmap='RdYlBu'\n",
    ")\n",
    "\n",
    "# Give the Plot some labels, and titles.\n",
    "plt.title('Portfolio Returns Vs. Risk')\n",
    "plt.colorbar(label='Sharpe Ratio')\n",
    "plt.xlabel('Standard Deviation')\n",
    "plt.ylabel('Returns')\n",
    "\n",
    "# Plot the Max Sharpe Ratio, using a `Red Star`.\n",
    "plt.scatter(\n",
    "    max_sharpe_ratio[1],\n",
    "    max_sharpe_ratio[0],\n",
    "    marker=(5, 1, 0),\n",
    "    color='r',\n",
    "    s=600\n",
    ")\n",
    "\n",
    "# Plot the Min Volatility, using a `Blue Star`.\n",
    "plt.scatter(\n",
    "    min_volatility[1],\n",
    "    min_volatility[0],\n",
    "    marker=(5, 1, 0),\n",
    "    color='b',\n",
    "    s=600\n",
    ")\n",
    "\n",
    "# Finally, show the plot.\n",
    "plt.show()"
   ]
  },
  {
   "cell_type": "markdown",
   "metadata": {},
   "source": [
    "# Optimization\n",
    "\n",
    "Alright, now remember that up above I mentioned that we would be exploring multiple ways to optimize our portfolio. The first was using Monte Carlo Simulation that would try thousands of random values and find the best values. The draw back to using the Monte Carlo Simulation is that it's not the most efficent way to find the optimial values. Instead we can use mathematical techniques to easily arrive at the optimial values.\n",
    "\n",
    "To help run this new optimization method, we will need to define a few more functions that we will use in our method. The first function is the `get_metrics()` function which will return the metrics for a given set of weights provided. In other words, think of it as a \"lookup function\" where we can return the results of a certain weight. The second function is the `neg_sharpe` function which is used as a minimization function. The minimization function is used to help find the values which results in the lowest sharpe ratio. In Scipy’s optimize function, there’s no `maximize`, so as an objective function you need to pass something that should be minimized.\n",
    "\n",
    "The third function is `check_sum` function which is used as a constraint. What is will do is make sure that the weights that are passed through meet the constraint that we must have a portfolio allocation equal 100%, not more and not less."
   ]
  },
  {
   "cell_type": "code",
   "execution_count": 10,
   "metadata": {},
   "outputs": [],
   "source": [
    "def get_metrics(weights: list) -> np.array:\n",
    "    \"\"\"\n",
    "    ### Overview:\n",
    "    ----\n",
    "    With a given set of weights, return the portfolio returns,\n",
    "    the portfolio volatility, and the portfolio sharpe ratio.\n",
    "\n",
    "    ### Arguments:\n",
    "    ----\n",
    "    weights (list): An array of portfolio weights.\n",
    "\n",
    "    ### Returns:\n",
    "    ----\n",
    "    (np.array): An array containg return value, a volatility value,\n",
    "        and a sharpe ratio.\n",
    "    \"\"\"\n",
    "\n",
    "    # Convert to a Numpy Array.\n",
    "    weights = np.array(weights)\n",
    "\n",
    "    # Calculate the returns, remember to annualize them (252).\n",
    "    ret = np.sum(log_return.mean() * weights) * 252\n",
    "\n",
    "    # Calculate the volatility, remember to annualize them (252).\n",
    "    vol = np.sqrt(\n",
    "        np.dot(weights.T, np.dot(log_return.cov() * 252, weights))\n",
    "    )\n",
    "\n",
    "    # Calculate the Sharpe Ratio.\n",
    "    sr = ret / vol\n",
    "\n",
    "    return np.array([ret, vol, sr])\n",
    "\n",
    "def grab_negative_sharpe(weights: list) -> np.array:\n",
    "    \"\"\"The function used to minimize the Sharpe Ratio.\n",
    "\n",
    "    ### Arguments:\n",
    "    ----\n",
    "    weights (list): The weights, we are testing to see\n",
    "        if it's the minimum.\n",
    "\n",
    "    ### Returns:\n",
    "    ----\n",
    "    (np.array): An numpy array of the portfolio metrics.\n",
    "    \"\"\"\n",
    "    return get_metrics(weights)[2] - 1\n",
    "\n",
    "def grab_volatility(weights: list) -> np.array:\n",
    "    \"\"\"The function used to minimize the Sharpe Ratio.\n",
    "\n",
    "    ### Arguments:\n",
    "    ----\n",
    "    weights (list): The weights, we are testing to see\n",
    "        if it's the minimum.\n",
    "\n",
    "    ### Returns:\n",
    "    ----\n",
    "    (np.array): An numpy array of the portfolio metrics.\n",
    "    \"\"\"\n",
    "    return get_metrics(weights)[1]\n",
    "\n",
    "def check_sum(weights: list) -> float:\n",
    "    \"\"\"Ensure the allocations of the \"weights\", sums to 1 (100%)\n",
    "\n",
    "    ### Arguments:\n",
    "    ----\n",
    "    weights (list): The weights we want to check to see\n",
    "        if they sum to 1.\n",
    "\n",
    "    ### Returns:\n",
    "    ----\n",
    "    float: The different between 1 and the sum of the weights.\n",
    "    \"\"\"\n",
    "    return np.sum(weights) - 1"
   ]
  },
  {
   "cell_type": "markdown",
   "metadata": {},
   "source": [
    "Okay with our functions now defined, let's run the optimization using the `scipy.optimization` module. This module has a function called `minimize` which we can use to help our optimial values. However, we need to do a few things before we run it. First, we need to define bounds which tells the minimize function that each of our positions can only be between 0% and 100% of the allocation. Second, we need to define the constraint which will be a `fun`(function) that ensures we `equ`(equal) a 100% allocated portfolio. In other words, we use all the \"capital\" we can. Third, we need to define our initial guess of the weights. The initial guess can be anything but in this case let's make it easy and start with an equally distirbuted portofolio. In this case we have 4 symbols so each symbol will be 25% of the portfolio.\n",
    "\n",
    "Once we've define this steps we can run the optimization by passing through the arguments defined and defining the `method` as `SLSQP` which is short for `Sequential Least Squares Programming`. Now, the different optimization methods are a whole different topic and is outside the scope of this tutorial. Once we run the `minimize` method we can grab the results.\n",
    "\n",
    "The first is the results of our minimization operation. Inside the results, you'll see the optimize sharpe ration defined by the `fun` value. We can then take the `optimized_weights` defined by the `optimized_sharpe.x` values, and use them to return the different metrics we have for our portfolio."
   ]
  },
  {
   "cell_type": "code",
   "execution_count": 11,
   "metadata": {
    "tags": []
   },
   "outputs": [
    {
     "name": "stdout",
     "output_type": "stream",
     "text": [
      "\n",
      "================================================================================\n",
      "OPTIMIZED SHARPE RATIO:\n",
      "--------------------------------------------------------------------------------\n",
      " message: Optimization terminated successfully\n",
      " success: True\n",
      "  status: 0\n",
      "     fun: -0.41952441797979967\n",
      "       x: [ 1.000e+00  0.000e+00  1.296e-14]\n",
      "     nit: 4\n",
      "     jac: [-0.000e+00  2.132e-01  1.381e+00]\n",
      "    nfev: 16\n",
      "    njev: 4\n",
      "--------------------------------------------------------------------------------\n"
     ]
    }
   ],
   "source": [
    "# Define the boundaries for each symbol. Remember I can only invest up to 100% of my capital into a single asset.\n",
    "bounds = tuple((0, 1) for symbol in range(number_of_symbols))\n",
    "\n",
    "# Define the constraints, here I'm saying that the sum of each weight must not exceed 100%.\n",
    "constraints = ({'type': 'eq', 'fun': check_sum})\n",
    "\n",
    "# We need to create an initial guess to start with,\n",
    "# and usually the best initial guess is just an\n",
    "# even distribution. In this case 25% for each of the 4 stocks.\n",
    "init_guess = number_of_symbols * [1 / number_of_symbols]\n",
    "\n",
    "# Perform the operation to minimize the risk.\n",
    "optimized_sharpe = sci_opt.minimize(\n",
    "    grab_negative_sharpe, # minimize this.\n",
    "    init_guess, # Start with these values.\n",
    "    method='SLSQP',\n",
    "    bounds=bounds, # don't exceed these bounds.\n",
    "    constraints=constraints # make sure you don't exceed the 100% constraint.\n",
    ")\n",
    "\n",
    "# Print the results.\n",
    "print('')\n",
    "print('='*80)\n",
    "print('OPTIMIZED SHARPE RATIO:')\n",
    "print('-'*80)\n",
    "print(optimized_sharpe)\n",
    "print('-'*80)"
   ]
  },
  {
   "cell_type": "code",
   "execution_count": 18,
   "metadata": {
    "tags": []
   },
   "outputs": [
    {
     "name": "stdout",
     "output_type": "stream",
     "text": [
      "\n",
      "================================================================================\n",
      "OPTIMIZED WEIGHTS:\n",
      "--------------------------------------------------------------------------------\n",
      "[1. 0. 0.]\n",
      "--------------------------------------------------------------------------------\n",
      "\n",
      "================================================================================\n",
      "OPTIMIZED METRICS:\n",
      "--------------------------------------------------------------------------------\n",
      "[0.31086729 0.53553897 0.58047558]\n",
      "--------------------------------------------------------------------------------\n"
     ]
    }
   ],
   "source": [
    "# Grab the metrics.\n",
    "optimized_metrics = get_metrics(weights=optimized_sharpe.x)\n",
    "\n",
    "# Print the Optimized Weights.\n",
    "print('')\n",
    "print('='*80)\n",
    "print('OPTIMIZED WEIGHTS:')\n",
    "print('-'*80)\n",
    "print(optimized_sharpe.x)\n",
    "print('-'*80)\n",
    "\n",
    "\n",
    "# Print the Optimized Metrics.\n",
    "print('')\n",
    "print('='*80)\n",
    "print('OPTIMIZED METRICS:')\n",
    "print('-'*80)\n",
    "print(optimized_metrics)\n",
    "print('-'*80)"
   ]
  },
  {
   "cell_type": "code",
   "execution_count": 12,
   "metadata": {
    "tags": []
   },
   "outputs": [
    {
     "name": "stdout",
     "output_type": "stream",
     "text": [
      "\n",
      "================================================================================\n",
      "OPTIMIZED VOLATILITY RATIO:\n",
      "--------------------------------------------------------------------------------\n",
      " message: Optimization terminated successfully\n",
      " success: True\n",
      "  status: 0\n",
      "     fun: 0.5328609543369459\n",
      "       x: [ 7.485e-01  2.515e-01  2.082e-17]\n",
      "     nit: 6\n",
      "     jac: [ 5.329e-01  5.328e-01  6.439e-01]\n",
      "    nfev: 24\n",
      "    njev: 6\n",
      "--------------------------------------------------------------------------------\n"
     ]
    }
   ],
   "source": [
    "# Define the boundaries for each symbol. Remember I can only invest up to 100% of my capital into a single asset.\n",
    "bounds = tuple((0, 1) for symbol in range(number_of_symbols))\n",
    "\n",
    "# Define the constraints, here I'm saying that the sum of each weight must not exceed 100%.\n",
    "constraints = ({'type': 'eq', 'fun': check_sum})\n",
    "\n",
    "# We need to create an initial guess to start with,\n",
    "# and usually the best initial guess is just an\n",
    "# even distribution. In this case 25% for each of the 4 stocks.\n",
    "init_guess = number_of_symbols * [1 / number_of_symbols]\n",
    "\n",
    "# Perform the operation to minimize the risk.\n",
    "optimized_volatility = sci_opt.minimize(\n",
    "    grab_volatility, # minimize this.\n",
    "    init_guess, # Start with these values.\n",
    "    method='SLSQP',\n",
    "    bounds=bounds, # don't exceed these bounds.\n",
    "    constraints=constraints # make sure you don't exceed the 100% constraint.\n",
    ")\n",
    "\n",
    "# Print the results.\n",
    "print('')\n",
    "print('='*80)\n",
    "print('OPTIMIZED VOLATILITY RATIO:')\n",
    "print('-'*80)\n",
    "print(optimized_volatility)\n",
    "print('-'*80)"
   ]
  },
  {
   "cell_type": "code",
   "execution_count": 13,
   "metadata": {
    "tags": []
   },
   "outputs": [
    {
     "name": "stdout",
     "output_type": "stream",
     "text": [
      "\n",
      "================================================================================\n",
      "OPTIMIZED WEIGHTS:\n",
      "--------------------------------------------------------------------------------\n",
      "[7.48508079e-01 2.51491921e-01 2.08166817e-17]\n",
      "--------------------------------------------------------------------------------\n",
      "\n",
      "================================================================================\n",
      "OPTIMIZED METRICS:\n",
      "--------------------------------------------------------------------------------\n",
      "[0.33649627 0.53286095 0.63148983]\n",
      "--------------------------------------------------------------------------------\n"
     ]
    }
   ],
   "source": [
    "# Grab the metrics.\n",
    "optimized_metrics = get_metrics(weights=optimized_volatility.x)\n",
    "\n",
    "# Print the Optimized Weights.\n",
    "print('')\n",
    "print('='*80)\n",
    "print('OPTIMIZED WEIGHTS:')\n",
    "print('-'*80)\n",
    "print(optimized_volatility.x)\n",
    "print('-'*80)\n",
    "\n",
    "\n",
    "# Print the Optimized Metrics.\n",
    "print('')\n",
    "print('='*80)\n",
    "print('OPTIMIZED METRICS:')\n",
    "print('-'*80)\n",
    "print(optimized_metrics)\n",
    "print('-'*80)"
   ]
  },
  {
   "cell_type": "code",
   "execution_count": null,
   "metadata": {},
   "outputs": [],
   "source": []
  }
 ],
 "metadata": {
  "kernelspec": {
   "display_name": "Python 3.10.10 64-bit ('3.10.10')",
   "language": "python",
   "name": "python3"
  },
  "language_info": {
   "codemirror_mode": {
    "name": "ipython",
    "version": 3
   },
   "file_extension": ".py",
   "mimetype": "text/x-python",
   "name": "python",
   "nbconvert_exporter": "python",
   "pygments_lexer": "ipython3",
   "version": "3.10.10"
  },
  "orig_nbformat": 2,
  "vscode": {
   "interpreter": {
    "hash": "62e2d1143db46d4668ac734d6bb1844e528747d5e5d52775aa9c08e308c71df8"
   }
  }
 },
 "nbformat": 4,
 "nbformat_minor": 2
}
